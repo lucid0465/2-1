{
 "cells": [
  {
   "cell_type": "markdown",
   "id": "ddbe3f1e",
   "metadata": {},
   "source": [
    "## 15. 예외처리\n",
    "\n",
    "### 1) 예외 처리 구문"
   ]
  },
  {
   "cell_type": "code",
   "execution_count": 3,
   "id": "a101e021",
   "metadata": {},
   "outputs": [
    {
     "name": "stdout",
     "output_type": "stream",
     "text": [
      "오류가 발생하였습니다\n",
      "10\n"
     ]
    }
   ],
   "source": [
    "# 기본 구문\n",
    "\n",
    "a = 10\n",
    "b = 0\n",
    "\n",
    "try:\n",
    "    c = a / b\n",
    "except:\n",
    "    print(\"오류가 발생하였습니다\")\n",
    "\n",
    "print(a)"
   ]
  },
  {
   "cell_type": "markdown",
   "id": "042fa688",
   "metadata": {},
   "source": [
    "### 2) 예외명별 예외 처리 구문"
   ]
  },
  {
   "cell_type": "code",
   "execution_count": 6,
   "id": "88a59c6b",
   "metadata": {},
   "outputs": [
    {
     "name": "stdout",
     "output_type": "stream",
     "text": [
      "0 으로 나눌 수 없습니다.\n",
      "10\n"
     ]
    }
   ],
   "source": [
    "# ZeroDivisionError\n",
    "\n",
    "a = 10\n",
    "b = 0\n",
    "\n",
    "try:\n",
    "    c = a / b\n",
    "except ZeroDivisionError:\n",
    "    print(\"0 으로 나눌 수 없습니다.\")\n",
    "\n",
    "print(a)\n",
    "\n"
   ]
  },
  {
   "cell_type": "code",
   "execution_count": 7,
   "id": "d9d2b3a9",
   "metadata": {},
   "outputs": [
    {
     "name": "stdout",
     "output_type": "stream",
     "text": [
      "변수를 초기화해주세요.\n"
     ]
    }
   ],
   "source": [
    "# NameError\n",
    "\n",
    "try:\n",
    "    print(aa)\n",
    "except NameError:\n",
    "    print(\"변수를 초기화해주세요.\")"
   ]
  },
  {
   "cell_type": "code",
   "execution_count": 8,
   "id": "3ba57c3f",
   "metadata": {},
   "outputs": [
    {
     "name": "stdout",
     "output_type": "stream",
     "text": [
      "값을 확인하세요\n"
     ]
    }
   ],
   "source": [
    "# valueError\n",
    "\n",
    "try:\n",
    "    b = int(\"a\")\n",
    "except ValueError:\n",
    "    print(\"값을 확인하세요\")\n"
   ]
  },
  {
   "cell_type": "code",
   "execution_count": 10,
   "id": "92a7470e",
   "metadata": {},
   "outputs": [
    {
     "name": "stdout",
     "output_type": "stream",
     "text": [
      "범위를 벗어났습니다.\n"
     ]
    }
   ],
   "source": [
    "# indexError\n",
    "\n",
    "try:\n",
    "    a = \"Hello\"\n",
    "    a[10]\n",
    "except:\n",
    "    print(\"범위를 벗어났습니다.\")"
   ]
  },
  {
   "cell_type": "code",
   "execution_count": 12,
   "id": "bef6c22a",
   "metadata": {},
   "outputs": [
    {
     "name": "stdout",
     "output_type": "stream",
     "text": [
      "자료타입이 일치하지 않습니다.\n"
     ]
    }
   ],
   "source": [
    "# TypeError\n",
    "\n",
    "a = 'hello'\n",
    "b = 1\n",
    "\n",
    "try:\n",
    "    c = a + b\n",
    "except TypeError:\n",
    "    print('자료타입이 일치하지 않습니다.')"
   ]
  },
  {
   "cell_type": "code",
   "execution_count": 18,
   "id": "975380d0",
   "metadata": {},
   "outputs": [
    {
     "name": "stdout",
     "output_type": "stream",
     "text": [
      "division by zero\n"
     ]
    }
   ],
   "source": [
    "# 오류 메세지 변수 사용\n",
    "try:\n",
    "    print(10 / 0)\n",
    "except ZeroDivisionError as e:\n",
    "    print(e)"
   ]
  },
  {
   "cell_type": "markdown",
   "id": "a233d59d",
   "metadata": {},
   "source": [
    "### 3) finally 구문"
   ]
  },
  {
   "cell_type": "code",
   "execution_count": 20,
   "id": "0a531456",
   "metadata": {},
   "outputs": [
    {
     "name": "stdout",
     "output_type": "stream",
     "text": [
      "으로 나누는 오류 발생 :  division by zero\n",
      "file을 close하였습니다.\n"
     ]
    }
   ],
   "source": [
    "try:\n",
    "    f = open(\"abc.txt\", \"w\")\n",
    "    c = 10 / 0\n",
    "    f.write(c)\n",
    "except ZeroDivisionError as e:\n",
    "    print(\"으로 나누는 오류 발생 : \", e)\n",
    "finally:\n",
    "    f.close()\n",
    "    print(\"file을 close하였습니다.\")"
   ]
  },
  {
   "cell_type": "code",
   "execution_count": 28,
   "id": "b31dbd4e",
   "metadata": {},
   "outputs": [
    {
     "name": "stdout",
     "output_type": "stream",
     "text": [
      "으로 나누는 오류 발생 :  division by zero\n",
      "file을 close하였습니다.\n"
     ]
    }
   ],
   "source": [
    "# FileNotFoundError 예외 구문\n",
    "try:\n",
    "    f = open(\"abc.txt\", \"r\")\n",
    "    c = 10 / 0\n",
    "    f.write(c)\n",
    "except ZeroDivisionError as e:\n",
    "    print(\"으로 나누는 오류 발생 : \", e)\n",
    "except FileNotFoundError as e:\n",
    "    print(\"File Error :\", e)\n",
    "except:\n",
    "    print(\"알 수 없는 오류 발생\")\n",
    "finally:\n",
    "    f.close()\n",
    "    print(\"file을 close하였습니다.\")"
   ]
  },
  {
   "cell_type": "markdown",
   "id": "6a4bea0f",
   "metadata": {},
   "source": [
    "### 4) 여러 개 한번에 오류 처리"
   ]
  },
  {
   "cell_type": "code",
   "execution_count": 29,
   "id": "e1c27afe",
   "metadata": {},
   "outputs": [
    {
     "name": "stdout",
     "output_type": "stream",
     "text": [
      "hello\n",
      "오류 발생 list index out of range\n"
     ]
    }
   ],
   "source": [
    "try:\n",
    "    c = [1, 2]\n",
    "    print(a)\n",
    "    print(c[2])\n",
    "except (IndexError, NameError) as e:\n",
    "    print(\"오류 발생\", e)"
   ]
  },
  {
   "cell_type": "markdown",
   "id": "12388c5c",
   "metadata": {},
   "source": [
    "### 5) 예외 회피 / 발생"
   ]
  },
  {
   "cell_type": "code",
   "execution_count": 30,
   "id": "b5841913",
   "metadata": {},
   "outputs": [
    {
     "name": "stdout",
     "output_type": "stream",
     "text": [
      "print(\"abc\")\n",
      "\n",
      "def abc(a, b):\n",
      "    print(\"def\")\n",
      "    return a + b\n",
      "\n",
      "a = 10\n",
      "b = 20\n",
      "\n",
      "print(abc(10,20))\n",
      "\n"
     ]
    }
   ],
   "source": [
    "# 예외 회피\n",
    "\n",
    "try:\n",
    "    f = open(\"test.py\", \"r\")\n",
    "    content = f.read()\n",
    "    print(content)\n",
    "except FileNotFoundError:\n",
    "    pass"
   ]
  },
  {
   "cell_type": "code",
   "execution_count": 38,
   "id": "2f41a624",
   "metadata": {},
   "outputs": [
    {
     "ename": "NameError",
     "evalue": "name 'CloubMember' is not defined",
     "output_type": "error",
     "traceback": [
      "\u001b[1;31m---------------------------------------------------------------------------\u001b[0m",
      "\u001b[1;31mNameError\u001b[0m                                 Traceback (most recent call last)",
      "Cell \u001b[1;32mIn[38], line 13\u001b[0m\n\u001b[0;32m     10\u001b[0m p \u001b[38;5;241m=\u001b[39m Person()\n\u001b[0;32m     11\u001b[0m \u001b[38;5;66;03m#p.set_data()\u001b[39;00m\n\u001b[1;32m---> 13\u001b[0m c \u001b[38;5;241m=\u001b[39m \u001b[43mCloubMember\u001b[49m()\n\u001b[0;32m     14\u001b[0m c\u001b[38;5;241m.\u001b[39mset_data()\n",
      "\u001b[1;31mNameError\u001b[0m: name 'CloubMember' is not defined"
     ]
    }
   ],
   "source": [
    "# 예외 강제 발생\n",
    "class Person:\n",
    "    def set_data(self):\n",
    "        print(\"a\")\n",
    "        raise NotImpIentedError\n",
    "        \n",
    "class ClubMember(Person):\n",
    "    pass\n",
    "\n",
    "p = Person()\n",
    "#p.set_data()\n",
    "\n",
    "c = CloubMember()\n",
    "c.set_data()"
   ]
  },
  {
   "cell_type": "markdown",
   "id": "33815d50",
   "metadata": {},
   "source": [
    "### 6) 예외 만들기"
   ]
  },
  {
   "cell_type": "code",
   "execution_count": 41,
   "id": "5f1f12c7",
   "metadata": {},
   "outputs": [
    {
     "ename": "CustomError",
     "evalue": "",
     "output_type": "error",
     "traceback": [
      "\u001b[1;31m---------------------------------------------------------------------------\u001b[0m",
      "\u001b[1;31mCustomError\u001b[0m                               Traceback (most recent call last)",
      "Cell \u001b[1;32mIn[41], line 11\u001b[0m\n\u001b[0;32m      8\u001b[0m     \u001b[38;5;28mprint\u001b[39m(a)\n\u001b[0;32m     10\u001b[0m a \u001b[38;5;241m=\u001b[39m \u001b[38;5;241m0\u001b[39m\n\u001b[1;32m---> 11\u001b[0m \u001b[43minput_data\u001b[49m\u001b[43m(\u001b[49m\u001b[43ma\u001b[49m\u001b[43m)\u001b[49m\n",
      "Cell \u001b[1;32mIn[41], line 7\u001b[0m, in \u001b[0;36minput_data\u001b[1;34m(a)\u001b[0m\n\u001b[0;32m      5\u001b[0m \u001b[38;5;28;01mdef\u001b[39;00m \u001b[38;5;21minput_data\u001b[39m(a):\n\u001b[0;32m      6\u001b[0m     \u001b[38;5;28;01mif\u001b[39;00m a \u001b[38;5;241m==\u001b[39m \u001b[38;5;241m0\u001b[39m :\n\u001b[1;32m----> 7\u001b[0m         \u001b[38;5;28;01mraise\u001b[39;00m CustomError\n\u001b[0;32m      8\u001b[0m     \u001b[38;5;28mprint\u001b[39m(a)\n",
      "\u001b[1;31mCustomError\u001b[0m: "
     ]
    }
   ],
   "source": [
    "# CustomError 예외 만들기\n",
    "class CustomError(Exception):\n",
    "    pass\n",
    "\n",
    "def input_data(a):\n",
    "    if a == 0 :\n",
    "        raise CustomError\n",
    "    print(a)\n",
    "    \n",
    "a = 0\n",
    "input_data(a)\n"
   ]
  },
  {
   "cell_type": "code",
   "execution_count": 46,
   "id": "f9a20966",
   "metadata": {},
   "outputs": [
    {
     "name": "stdout",
     "output_type": "stream",
     "text": [
      "0인 경우 오류가 발생하였습니다.\n"
     ]
    }
   ],
   "source": [
    "# CustomerError 예외처리\n",
    "class CustomError(Exception):\n",
    "    pass\n",
    "\n",
    "def input_data(a):\n",
    "    if a == 0 :\n",
    "        raise CustomError\n",
    "    print(a)\n",
    "\n",
    "try:\n",
    "    a = 0\n",
    "    input_data(a)\n",
    "except CustomError:\n",
    "    print(\"0인 경우 오류가 발생하였습니다.\")"
   ]
  },
  {
   "cell_type": "code",
   "execution_count": 55,
   "id": "27d1567e",
   "metadata": {},
   "outputs": [
    {
     "name": "stdout",
     "output_type": "stream",
     "text": [
      "첫번째 숫자 : 3\n",
      "두번째 숫자 : 10\n",
      "한자리 숫자만 입력하세요\n",
      "3 + 10 = 13\n"
     ]
    }
   ],
   "source": [
    "# 두개의 숫자를 입력받는데, 하나라도 10이상인 경우 예외 발생\n",
    "# 출력문\"한자리 숫자만 입력하세요\" 출력\n",
    "# 예외명 : BigNumberError\n",
    "# 둘 다 10미만인 경우는 \"00 + 00 = 00\"\n",
    "\n",
    "class BigNumberError(Exception):\n",
    "    pass\n",
    "\n",
    "\n",
    "#num1 = int(input(\"첫번째 숫자 : \"))\n",
    "#num2 = int(input(\"두번째 숫자 : \"))\n",
    "\n",
    "num1 = int(input(\"첫번째 숫자 : \"))\n",
    "num2 = int(input(\"두번째 숫자 : \"))\n",
    "\n",
    "try:\n",
    "    if num1 >= 10 or num2 >= 10:\n",
    "        raise BigNumberError\n",
    "except BigNumberError:\n",
    "    print(\"한자리 숫자만 입력하세요\")\n",
    "    \n",
    "print(\"{} + {} = {}\".format(num1,num2,num1 + num2))\n",
    "          \n",
    "\n",
    "          \n",
    "          \n",
    "       \n",
    "\n"
   ]
  },
  {
   "cell_type": "code",
   "execution_count": 61,
   "id": "cf8b0235",
   "metadata": {},
   "outputs": [
    {
     "name": "stdout",
     "output_type": "stream",
     "text": [
      "첫번째 숫자 : 10\n",
      "두번째 숫자 : 3\n",
      "한자리 숫자만 입력하세요\n",
      "[에러코드 : 001] 10 + 3 = 13\n"
     ]
    }
   ],
   "source": [
    "# CustomerError 예외처리 시 오류메세지 셋팅 / 출력\n",
    "\n",
    "class BigNumberError(Exception):\n",
    "    def __init__(self,msg):\n",
    "        self.msg = msg\n",
    "    def __str__(self):\n",
    "        return \"[에러코드 : 001] \" + self.msg\n",
    "\n",
    "\n",
    "\n",
    "num1 = int(input(\"첫번째 숫자 : \"))\n",
    "num2 = int(input(\"두번째 숫자 : \"))\n",
    "\n",
    "try:\n",
    "    if num1 >= 10 or num2 >= 10:\n",
    "        raise BigNumberError(\"{} + {} = {}\".format(num1,num2,num1 + num2))\n",
    "    \n",
    "    print(\"{} + {} = {}\".format(num1,num2,num1 + num2))\n",
    "except BigNumberError as e:\n",
    "    print(\"한자리 숫자만 입력하세요\")\n",
    "    print(e)\n",
    "    \n"
   ]
  },
  {
   "cell_type": "code",
   "execution_count": null,
   "id": "9df59fb9",
   "metadata": {},
   "outputs": [],
   "source": []
  }
 ],
 "metadata": {
  "kernelspec": {
   "display_name": "Python 3 (ipykernel)",
   "language": "python",
   "name": "python3"
  },
  "language_info": {
   "codemirror_mode": {
    "name": "ipython",
    "version": 3
   },
   "file_extension": ".py",
   "mimetype": "text/x-python",
   "name": "python",
   "nbconvert_exporter": "python",
   "pygments_lexer": "ipython3",
   "version": "3.10.6"
  }
 },
 "nbformat": 4,
 "nbformat_minor": 5
}
