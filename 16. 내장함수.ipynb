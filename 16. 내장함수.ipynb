{
 "cells": [
  {
   "cell_type": "markdown",
   "id": "f2f688ad",
   "metadata": {},
   "source": [
    "## 1. 내장함수"
   ]
  },
  {
   "cell_type": "code",
   "execution_count": 11,
   "id": "35067057",
   "metadata": {},
   "outputs": [
    {
     "ename": "SyntaxError",
     "evalue": "invalid syntax (1000105634.py, line 34)",
     "output_type": "error",
     "traceback": [
      "\u001b[1;36m  Cell \u001b[1;32mIn[11], line 34\u001b[1;36m\u001b[0m\n\u001b[1;33m    -----------------------------------------\u001b[0m\n\u001b[1;37m                                             ^\u001b[0m\n\u001b[1;31mSyntaxError\u001b[0m\u001b[1;31m:\u001b[0m invalid syntax\n"
     ]
    }
   ],
   "source": [
    "print(abs(-3,5))\n",
    "\n",
    "print(all([0, 1, 2, 3]))\n",
    "print(any([0, 1, 2, 3]))\n",
    "\n",
    "print(chr(97))\n",
    "\n",
    "print(dir([1, 2, 3]))\n",
    "print(dir({'1':'a'}))\n",
    "\n",
    "print(divmod(5,2))\n",
    "print(5 // 2)\n",
    "print(5 % 2)\n",
    "\n",
    "print(enumerate(['a', 'b', 'c']))\n",
    "\n",
    "print(eval('1+2'))\n",
    "print(eval('divmod(4,3)'))\n",
    "\n",
    "print(list(filter(lambda x: x > 0, [1, 2, -3, 4, -5, 6, 7, -8])))\n",
    "\n",
    "a = 3\n",
    "b = a\n",
    "print(id(a))\n",
    "print(id(b))\n",
    "print(int(3.14))\n",
    "\n",
    "class Person:\n",
    "    pass\n",
    "\n",
    "p = Person()\n",
    "print(isinstance(p, Person))\n",
    "print(len(\"hello\"))\n",
    "-----------------------------------------\n",
    "print(list(\"hello\"))\n",
    "print(list(map(lambda x: x * 2, [1, 2, -3, 4, -5, 6, 7, -8])))\n",
    "print(max([1, 2, -3, 4, -5, 6, 7, -8]))\n",
    "print(min([1, 2, -3, 4, -5, 6, 7, -8]))\n",
    "print(ord('a'))\n",
    "print(ord('가'))\n",
    "print(pow(2,4))\n",
    "print(2**4)\n",
    "----------------------------------------------\n",
    "print(list(range(1, -10, -1)))\n",
    "print(round(5.56))\n",
    "print(round(5.56, 1))\n",
    "print(sorted([1, 3, 2]))\n",
    "print(str(3))\n",
    "print(str([1, 2, 3]))\n",
    "print(sum((4, 5, 6)))\n",
    "print(list(zip(\"abc\", \"def\")))"
   ]
  },
  {
   "cell_type": "markdown",
   "id": "0a966382",
   "metadata": {},
   "source": [
    "## 2. 표준모듈"
   ]
  },
  {
   "cell_type": "code",
   "execution_count": 8,
   "id": "03160bf7",
   "metadata": {},
   "outputs": [],
   "source": [
    "import math"
   ]
  },
  {
   "cell_type": "code",
   "execution_count": 9,
   "id": "c84bb39b",
   "metadata": {},
   "outputs": [
    {
     "data": {
      "text/plain": [
       "3.1622776601683795"
      ]
     },
     "execution_count": 9,
     "metadata": {},
     "output_type": "execute_result"
    }
   ],
   "source": [
    "math.sqrt(10)"
   ]
  },
  {
   "cell_type": "code",
   "execution_count": 10,
   "id": "c9f35b7d",
   "metadata": {},
   "outputs": [
    {
     "data": {
      "text/plain": [
       "27.0"
      ]
     },
     "execution_count": 10,
     "metadata": {},
     "output_type": "execute_result"
    }
   ],
   "source": [
    "math.pow(3,3)"
   ]
  },
  {
   "cell_type": "code",
   "execution_count": 12,
   "id": "11042243",
   "metadata": {},
   "outputs": [
    {
     "data": {
      "text/plain": [
       "120"
      ]
     },
     "execution_count": 12,
     "metadata": {},
     "output_type": "execute_result"
    }
   ],
   "source": [
    "math.factorial(5)"
   ]
  },
  {
   "cell_type": "code",
   "execution_count": 13,
   "id": "50b68fe1",
   "metadata": {},
   "outputs": [
    {
     "data": {
      "text/plain": [
       "0.479425538604203"
      ]
     },
     "execution_count": 13,
     "metadata": {},
     "output_type": "execute_result"
    }
   ],
   "source": [
    "math.sin(0.5)"
   ]
  },
  {
   "cell_type": "code",
   "execution_count": 14,
   "id": "cc72f402",
   "metadata": {},
   "outputs": [
    {
     "data": {
      "text/plain": [
       "0.6967067093471654"
      ]
     },
     "execution_count": 14,
     "metadata": {},
     "output_type": "execute_result"
    }
   ],
   "source": [
    "math.cos(0.8)"
   ]
  },
  {
   "cell_type": "code",
   "execution_count": 15,
   "id": "6873edf7",
   "metadata": {},
   "outputs": [
    {
     "data": {
      "text/plain": [
       "0.6483608274590866"
      ]
     },
     "execution_count": 15,
     "metadata": {},
     "output_type": "execute_result"
    }
   ],
   "source": [
    "math.tan(10)"
   ]
  },
  {
   "cell_type": "code",
   "execution_count": 16,
   "id": "40de8f61",
   "metadata": {},
   "outputs": [
    {
     "data": {
      "text/plain": [
       "21"
      ]
     },
     "execution_count": 16,
     "metadata": {},
     "output_type": "execute_result"
    }
   ],
   "source": [
    "math.ceil(20.33)"
   ]
  },
  {
   "cell_type": "code",
   "execution_count": 17,
   "id": "b1dfeffe",
   "metadata": {},
   "outputs": [
    {
     "data": {
      "text/plain": [
       "20"
      ]
     },
     "execution_count": 17,
     "metadata": {},
     "output_type": "execute_result"
    }
   ],
   "source": [
    "math.floor(20.33)"
   ]
  },
  {
   "cell_type": "code",
   "execution_count": 18,
   "id": "25e4fa36",
   "metadata": {},
   "outputs": [
    {
     "data": {
      "text/plain": [
       "30.2"
      ]
     },
     "execution_count": 18,
     "metadata": {},
     "output_type": "execute_result"
    }
   ],
   "source": [
    "math.fabs(-30.2)"
   ]
  },
  {
   "cell_type": "code",
   "execution_count": 19,
   "id": "d467c1ae",
   "metadata": {},
   "outputs": [
    {
     "data": {
      "text/plain": [
       "20"
      ]
     },
     "execution_count": 19,
     "metadata": {},
     "output_type": "execute_result"
    }
   ],
   "source": [
    "math.trunc(20.33)"
   ]
  },
  {
   "cell_type": "code",
   "execution_count": 20,
   "id": "8fd14d24",
   "metadata": {},
   "outputs": [
    {
     "data": {
      "text/plain": [
       "2.0"
      ]
     },
     "execution_count": 20,
     "metadata": {},
     "output_type": "execute_result"
    }
   ],
   "source": [
    "math.log(100, 10)"
   ]
  },
  {
   "cell_type": "code",
   "execution_count": 22,
   "id": "3f4b8566",
   "metadata": {},
   "outputs": [
    {
     "data": {
      "text/plain": [
       "2.0"
      ]
     },
     "execution_count": 22,
     "metadata": {},
     "output_type": "execute_result"
    }
   ],
   "source": [
    "math.log10(100)"
   ]
  },
  {
   "cell_type": "markdown",
   "id": "b3c403d5",
   "metadata": {},
   "source": [
    "### 2) statistics"
   ]
  },
  {
   "cell_type": "code",
   "execution_count": 23,
   "id": "225e60e3",
   "metadata": {},
   "outputs": [
    {
     "name": "stdout",
     "output_type": "stream",
     "text": [
      "[10, 20, 30, 40, 50, 60, 70, 80, 90, 100]\n"
     ]
    }
   ],
   "source": [
    "import statistics as st\n",
    "\n",
    "points = list(range(10, 110, 10))\n",
    "print(points)"
   ]
  },
  {
   "cell_type": "code",
   "execution_count": 24,
   "id": "06a5d6c2",
   "metadata": {},
   "outputs": [
    {
     "data": {
      "text/plain": [
       "55"
      ]
     },
     "execution_count": 24,
     "metadata": {},
     "output_type": "execute_result"
    }
   ],
   "source": [
    "st.mean(points)"
   ]
  },
  {
   "cell_type": "code",
   "execution_count": 29,
   "id": "56b49f22",
   "metadata": {},
   "outputs": [
    {
     "data": {
      "text/plain": [
       "50"
      ]
     },
     "execution_count": 29,
     "metadata": {},
     "output_type": "execute_result"
    }
   ],
   "source": [
    "st.median(points)"
   ]
  },
  {
   "cell_type": "code",
   "execution_count": 32,
   "id": "2c059e9a",
   "metadata": {},
   "outputs": [
    {
     "data": {
      "text/plain": [
       "30"
      ]
     },
     "execution_count": 32,
     "metadata": {},
     "output_type": "execute_result"
    }
   ],
   "source": [
    "points2 = [10, 20, 30, 40, 50, 30, 30 ,40, 30, 30, 60]\n",
    "\n",
    "st.mode(points2)"
   ]
  },
  {
   "cell_type": "code",
   "execution_count": 33,
   "id": "8bf9cea6",
   "metadata": {},
   "outputs": [
    {
     "data": {
      "text/plain": [
       "31.200497982887473"
      ]
     },
     "execution_count": 33,
     "metadata": {},
     "output_type": "execute_result"
    }
   ],
   "source": [
    "st.pstdev(points)"
   ]
  },
  {
   "cell_type": "code",
   "execution_count": 34,
   "id": "8a6c2177",
   "metadata": {},
   "outputs": [
    {
     "data": {
      "text/plain": [
       "32.723358351767345"
      ]
     },
     "execution_count": 34,
     "metadata": {},
     "output_type": "execute_result"
    }
   ],
   "source": [
    "st.stdev(points)"
   ]
  },
  {
   "cell_type": "code",
   "execution_count": 35,
   "id": "133da1e8",
   "metadata": {},
   "outputs": [
    {
     "data": {
      "text/plain": [
       "1070.8181818181818"
      ]
     },
     "execution_count": 35,
     "metadata": {},
     "output_type": "execute_result"
    }
   ],
   "source": [
    "st.variance(points)"
   ]
  },
  {
   "cell_type": "markdown",
   "id": "36a0a376",
   "metadata": {},
   "source": [
    "### 3) datetime"
   ]
  },
  {
   "cell_type": "code",
   "execution_count": 42,
   "id": "fa3fe784",
   "metadata": {},
   "outputs": [],
   "source": [
    "import datetime"
   ]
  },
  {
   "cell_type": "code",
   "execution_count": 43,
   "id": "316c1b9b",
   "metadata": {},
   "outputs": [
    {
     "name": "stdout",
     "output_type": "stream",
     "text": [
      "2023-01-05 14:03:40.660344\n",
      "2023\n",
      "1\n",
      "5\n",
      "14\n",
      "3\n",
      "40\n"
     ]
    },
    {
     "ename": "AttributeError",
     "evalue": "'datetime.datetime' object has no attribute 'mocrosecond'",
     "output_type": "error",
     "traceback": [
      "\u001b[1;31m---------------------------------------------------------------------------\u001b[0m",
      "\u001b[1;31mAttributeError\u001b[0m                            Traceback (most recent call last)",
      "Cell \u001b[1;32mIn[43], line 10\u001b[0m\n\u001b[0;32m      8\u001b[0m \u001b[38;5;28mprint\u001b[39m(now\u001b[38;5;241m.\u001b[39mminute)\n\u001b[0;32m      9\u001b[0m \u001b[38;5;28mprint\u001b[39m(now\u001b[38;5;241m.\u001b[39msecond)\n\u001b[1;32m---> 10\u001b[0m \u001b[38;5;28mprint\u001b[39m(\u001b[43mnow\u001b[49m\u001b[38;5;241;43m.\u001b[39;49m\u001b[43mmocrosecond\u001b[49m)\n",
      "\u001b[1;31mAttributeError\u001b[0m: 'datetime.datetime' object has no attribute 'mocrosecond'"
     ]
    }
   ],
   "source": [
    "now = datetime.datetime.now()\n",
    "\n",
    "print(now)\n",
    "print(now.year)\n",
    "print(now.month)\n",
    "print(now.day)\n",
    "print(now.hour)\n",
    "print(now.minute)\n",
    "print(now.second)\n",
    "print(now.mocrosecond)\n"
   ]
  },
  {
   "cell_type": "code",
   "execution_count": 44,
   "id": "7c2cafb4",
   "metadata": {},
   "outputs": [
    {
     "ename": "SyntaxError",
     "evalue": "incomplete input (2927193079.py, line 2)",
     "output_type": "error",
     "traceback": [
      "\u001b[1;36m  Cell \u001b[1;32mIn[44], line 2\u001b[1;36m\u001b[0m\n\u001b[1;33m    print(now.replace(year=2025, month=10)\u001b[0m\n\u001b[1;37m                                          ^\u001b[0m\n\u001b[1;31mSyntaxError\u001b[0m\u001b[1;31m:\u001b[0m incomplete input\n"
     ]
    }
   ],
   "source": [
    "now = datetime.datetime.now()\n",
    "print(now.replace(year=2025, month=10)"
   ]
  },
  {
   "cell_type": "code",
   "execution_count": 45,
   "id": "ce92d31d",
   "metadata": {},
   "outputs": [
    {
     "name": "stdout",
     "output_type": "stream",
     "text": [
      "2023-01-05\n"
     ]
    }
   ],
   "source": [
    "print(datetime.date.today())"
   ]
  },
  {
   "cell_type": "code",
   "execution_count": 49,
   "id": "061f5675",
   "metadata": {},
   "outputs": [
    {
     "name": "stdout",
     "output_type": "stream",
     "text": [
      "2022-12-16 14:03:40.660344\n"
     ]
    }
   ],
   "source": [
    "print(now - datetime.timedelta(days=20))"
   ]
  },
  {
   "cell_type": "markdown",
   "id": "8b3d9c69",
   "metadata": {},
   "source": [
    "### 4) time"
   ]
  },
  {
   "cell_type": "code",
   "execution_count": 51,
   "id": "86557a65",
   "metadata": {},
   "outputs": [],
   "source": [
    "import time"
   ]
  },
  {
   "cell_type": "code",
   "execution_count": 52,
   "id": "16f219ba",
   "metadata": {},
   "outputs": [
    {
     "data": {
      "text/plain": [
       "1672896041.6125383"
      ]
     },
     "execution_count": 52,
     "metadata": {},
     "output_type": "execute_result"
    }
   ],
   "source": [
    "time.time()"
   ]
  },
  {
   "cell_type": "code",
   "execution_count": 53,
   "id": "162b506b",
   "metadata": {},
   "outputs": [
    {
     "data": {
      "text/plain": [
       "1672896047.9788282"
      ]
     },
     "execution_count": 53,
     "metadata": {},
     "output_type": "execute_result"
    }
   ],
   "source": [
    "time.time()"
   ]
  },
  {
   "cell_type": "code",
   "execution_count": 54,
   "id": "92672db3",
   "metadata": {},
   "outputs": [
    {
     "data": {
      "text/plain": [
       "'Thu Jan  5 14:21:05 2023'"
      ]
     },
     "execution_count": 54,
     "metadata": {},
     "output_type": "execute_result"
    }
   ],
   "source": [
    "time.ctime()"
   ]
  },
  {
   "cell_type": "code",
   "execution_count": 56,
   "id": "ddab4a7e",
   "metadata": {},
   "outputs": [
    {
     "name": "stdout",
     "output_type": "stream",
     "text": [
      "time.struct_time(tm_year=2023, tm_mon=1, tm_mday=5, tm_hour=14, tm_min=22, tm_sec=19, tm_wday=3, tm_yday=5, tm_isdst=0)\n",
      "2023\n"
     ]
    }
   ],
   "source": [
    "now = time.localtime()\n",
    "print(now)\n",
    "print(now.tm_year)"
   ]
  },
  {
   "cell_type": "code",
   "execution_count": 57,
   "id": "233f37a6",
   "metadata": {},
   "outputs": [
    {
     "data": {
      "text/plain": [
       "'Thu Jan  5 14:22:39 2023'"
      ]
     },
     "execution_count": 57,
     "metadata": {},
     "output_type": "execute_result"
    }
   ],
   "source": [
    "time.asctime()"
   ]
  },
  {
   "cell_type": "code",
   "execution_count": 61,
   "id": "190abb1b",
   "metadata": {},
   "outputs": [
    {
     "name": "stdout",
     "output_type": "stream",
     "text": [
      "<built-in function time>\n",
      "1672896356.5924032\n"
     ]
    },
    {
     "ename": "TypeError",
     "evalue": "unsupported operand type(s) for -: 'float' and 'builtin_function_or_method'",
     "output_type": "error",
     "traceback": [
      "\u001b[1;31m---------------------------------------------------------------------------\u001b[0m",
      "\u001b[1;31mTypeError\u001b[0m                                 Traceback (most recent call last)",
      "Cell \u001b[1;32mIn[61], line 6\u001b[0m\n\u001b[0;32m      4\u001b[0m end \u001b[38;5;241m=\u001b[39m time\u001b[38;5;241m.\u001b[39mtime()\n\u001b[0;32m      5\u001b[0m \u001b[38;5;28mprint\u001b[39m(end)\n\u001b[1;32m----> 6\u001b[0m \u001b[38;5;28mprint\u001b[39m(\u001b[43mend\u001b[49m\u001b[38;5;241;43m-\u001b[39;49m\u001b[43mstart\u001b[49m)\n\u001b[0;32m      8\u001b[0m \u001b[38;5;28mprint\u001b[39m(\u001b[38;5;124m\"\u001b[39m\u001b[38;5;124ma\u001b[39m\u001b[38;5;124m\"\u001b[39m)\n\u001b[0;32m      9\u001b[0m time\u001b[38;5;241m.\u001b[39msleep(\u001b[38;5;241m3\u001b[39m)\n",
      "\u001b[1;31mTypeError\u001b[0m: unsupported operand type(s) for -: 'float' and 'builtin_function_or_method'"
     ]
    }
   ],
   "source": [
    "start = time.time\n",
    "print(start)\n",
    "time.sleep(5)\n",
    "end = time.time()\n",
    "print(end)\n",
    "print(end-start)\n",
    "\n",
    "print(\"a\")\n",
    "time.sleep(3)\n",
    "print(\"b\")"
   ]
  },
  {
   "cell_type": "markdown",
   "id": "c84b55d8",
   "metadata": {},
   "source": [
    "## 5) calendar"
   ]
  },
  {
   "cell_type": "code",
   "execution_count": 62,
   "id": "7baf100c",
   "metadata": {},
   "outputs": [],
   "source": [
    "import calendar"
   ]
  },
  {
   "cell_type": "code",
   "execution_count": 67,
   "id": "640c715e",
   "metadata": {},
   "outputs": [
    {
     "name": "stdout",
     "output_type": "stream",
     "text": [
      "                                  2023\n",
      "\n",
      "      January                   February                   March\n",
      "Tu We Th Fr Sa Su Mo      Tu We Th Fr Sa Su Mo      Tu We Th Fr Sa Su Mo\n",
      "                1  2          1  2  3  4  5  6          1  2  3  4  5  6\n",
      " 3  4  5  6  7  8  9       7  8  9 10 11 12 13       7  8  9 10 11 12 13\n",
      "10 11 12 13 14 15 16      14 15 16 17 18 19 20      14 15 16 17 18 19 20\n",
      "17 18 19 20 21 22 23      21 22 23 24 25 26 27      21 22 23 24 25 26 27\n",
      "24 25 26 27 28 29 30      28                        28 29 30 31\n",
      "31\n",
      "\n",
      "       April                      May                       June\n",
      "Tu We Th Fr Sa Su Mo      Tu We Th Fr Sa Su Mo      Tu We Th Fr Sa Su Mo\n",
      "             1  2  3                         1             1  2  3  4  5\n",
      " 4  5  6  7  8  9 10       2  3  4  5  6  7  8       6  7  8  9 10 11 12\n",
      "11 12 13 14 15 16 17       9 10 11 12 13 14 15      13 14 15 16 17 18 19\n",
      "18 19 20 21 22 23 24      16 17 18 19 20 21 22      20 21 22 23 24 25 26\n",
      "25 26 27 28 29 30         23 24 25 26 27 28 29      27 28 29 30\n",
      "                          30 31\n",
      "\n",
      "        July                     August                  September\n",
      "Tu We Th Fr Sa Su Mo      Tu We Th Fr Sa Su Mo      Tu We Th Fr Sa Su Mo\n",
      "             1  2  3       1  2  3  4  5  6  7                1  2  3  4\n",
      " 4  5  6  7  8  9 10       8  9 10 11 12 13 14       5  6  7  8  9 10 11\n",
      "11 12 13 14 15 16 17      15 16 17 18 19 20 21      12 13 14 15 16 17 18\n",
      "18 19 20 21 22 23 24      22 23 24 25 26 27 28      19 20 21 22 23 24 25\n",
      "25 26 27 28 29 30 31      29 30 31                  26 27 28 29 30\n",
      "\n",
      "      October                   November                  December\n",
      "Tu We Th Fr Sa Su Mo      Tu We Th Fr Sa Su Mo      Tu We Th Fr Sa Su Mo\n",
      "                1  2          1  2  3  4  5  6                1  2  3  4\n",
      " 3  4  5  6  7  8  9       7  8  9 10 11 12 13       5  6  7  8  9 10 11\n",
      "10 11 12 13 14 15 16      14 15 16 17 18 19 20      12 13 14 15 16 17 18\n",
      "17 18 19 20 21 22 23      21 22 23 24 25 26 27      19 20 21 22 23 24 25\n",
      "24 25 26 27 28 29 30      28 29 30                  26 27 28 29 30 31\n",
      "31\n",
      "\n"
     ]
    }
   ],
   "source": [
    "print(calendar.calendar(2023))"
   ]
  },
  {
   "cell_type": "code",
   "execution_count": 66,
   "id": "bd093e75",
   "metadata": {},
   "outputs": [
    {
     "name": "stdout",
     "output_type": "stream",
     "text": [
      "    January 2023\n",
      "Tu We Th Fr Sa Su Mo\n",
      "                1  2\n",
      " 3  4  5  6  7  8  9\n",
      "10 11 12 13 14 15 16\n",
      "17 18 19 20 21 22 23\n",
      "24 25 26 27 28 29 30\n",
      "31\n",
      "\n"
     ]
    }
   ],
   "source": [
    "calendar.setfirstweekday(1)\n",
    "print(calendar.month(2023, 1))"
   ]
  },
  {
   "cell_type": "code",
   "execution_count": 68,
   "id": "15e068b4",
   "metadata": {},
   "outputs": [
    {
     "data": {
      "text/plain": [
       "3"
      ]
     },
     "execution_count": 68,
     "metadata": {},
     "output_type": "execute_result"
    }
   ],
   "source": [
    "calendar.weekday(2023, 1, 5)"
   ]
  },
  {
   "cell_type": "code",
   "execution_count": 69,
   "id": "24d47bba",
   "metadata": {},
   "outputs": [
    {
     "data": {
      "text/plain": [
       "(6, 31)"
      ]
     },
     "execution_count": 69,
     "metadata": {},
     "output_type": "execute_result"
    }
   ],
   "source": [
    "calendar.monthrange(2023, 1)"
   ]
  },
  {
   "cell_type": "markdown",
   "id": "21d0da94",
   "metadata": {},
   "source": [
    "### 6) range"
   ]
  },
  {
   "cell_type": "code",
   "execution_count": 70,
   "id": "c5145e3f",
   "metadata": {},
   "outputs": [],
   "source": [
    "import random"
   ]
  },
  {
   "cell_type": "code",
   "execution_count": 71,
   "id": "42edc100",
   "metadata": {},
   "outputs": [
    {
     "data": {
      "text/plain": [
       "0.5010568831642717"
      ]
     },
     "execution_count": 71,
     "metadata": {},
     "output_type": "execute_result"
    }
   ],
   "source": [
    "random.random()"
   ]
  },
  {
   "cell_type": "code",
   "execution_count": 72,
   "id": "b05f449d",
   "metadata": {},
   "outputs": [
    {
     "data": {
      "text/plain": [
       "5"
      ]
     },
     "execution_count": 72,
     "metadata": {},
     "output_type": "execute_result"
    }
   ],
   "source": [
    "random.randint(0,10)"
   ]
  },
  {
   "cell_type": "code",
   "execution_count": 74,
   "id": "2065efb9",
   "metadata": {},
   "outputs": [
    {
     "data": {
      "text/plain": [
       "2"
      ]
     },
     "execution_count": 74,
     "metadata": {},
     "output_type": "execute_result"
    }
   ],
   "source": [
    "random.randrange(-10,10)"
   ]
  },
  {
   "cell_type": "code",
   "execution_count": 75,
   "id": "775577ef",
   "metadata": {},
   "outputs": [
    {
     "data": {
      "text/plain": [
       "1.0777044083611091"
      ]
     },
     "execution_count": 75,
     "metadata": {},
     "output_type": "execute_result"
    }
   ],
   "source": [
    "random.uniform(0,5)"
   ]
  },
  {
   "cell_type": "code",
   "execution_count": 77,
   "id": "95c22697",
   "metadata": {},
   "outputs": [
    {
     "data": {
      "text/plain": [
       "2"
      ]
     },
     "execution_count": 77,
     "metadata": {},
     "output_type": "execute_result"
    }
   ],
   "source": [
    "a = ['a',1,2,3,3.14,True]\n",
    "random.choice(a)"
   ]
  },
  {
   "cell_type": "code",
   "execution_count": 79,
   "id": "ab1463c2",
   "metadata": {},
   "outputs": [
    {
     "name": "stdout",
     "output_type": "stream",
     "text": [
      "['a', 3, 1, True, 3.14, 2]\n"
     ]
    }
   ],
   "source": [
    "random.shuffle(a)\n",
    "print(a)"
   ]
  },
  {
   "cell_type": "code",
   "execution_count": 80,
   "id": "57e02ed6",
   "metadata": {},
   "outputs": [
    {
     "data": {
      "text/plain": [
       "[True, 3.14]"
      ]
     },
     "execution_count": 80,
     "metadata": {},
     "output_type": "execute_result"
    }
   ],
   "source": [
    "random.sample(a, 2)"
   ]
  },
  {
   "cell_type": "markdown",
   "id": "bee76d97",
   "metadata": {},
   "source": [
    "## 7) sys"
   ]
  },
  {
   "cell_type": "code",
   "execution_count": 82,
   "id": "4d3e94f2",
   "metadata": {},
   "outputs": [],
   "source": [
    "import sys"
   ]
  },
  {
   "cell_type": "code",
   "execution_count": 83,
   "id": "405229ff",
   "metadata": {},
   "outputs": [
    {
     "data": {
      "text/plain": [
       "'3.10.6 (tags/v3.10.6:9c7b4bd, Aug  1 2022, 21:53:49) [MSC v.1932 64 bit (AMD64)]'"
      ]
     },
     "execution_count": 83,
     "metadata": {},
     "output_type": "execute_result"
    }
   ],
   "source": [
    "sys.version"
   ]
  },
  {
   "cell_type": "code",
   "execution_count": 84,
   "id": "adc00017",
   "metadata": {},
   "outputs": [
    {
     "data": {
      "text/plain": [
       "'win32'"
      ]
     },
     "execution_count": 84,
     "metadata": {},
     "output_type": "execute_result"
    }
   ],
   "source": [
    "sys.platform"
   ]
  },
  {
   "cell_type": "code",
   "execution_count": 85,
   "id": "0d7f65f2",
   "metadata": {},
   "outputs": [
    {
     "data": {
      "text/plain": [
       "['C:\\\\KDTWork\\\\pywork',\n",
       " 'C:\\\\Python\\\\python310.zip',\n",
       " 'C:\\\\Python\\\\DLLs',\n",
       " 'C:\\\\Python\\\\lib',\n",
       " 'C:\\\\Python',\n",
       " '',\n",
       " 'C:\\\\Python\\\\lib\\\\site-packages',\n",
       " 'C:\\\\Python\\\\lib\\\\site-packages\\\\win32',\n",
       " 'C:\\\\Python\\\\lib\\\\site-packages\\\\win32\\\\lib',\n",
       " 'C:\\\\Python\\\\lib\\\\site-packages\\\\Pythonwin']"
      ]
     },
     "execution_count": 85,
     "metadata": {},
     "output_type": "execute_result"
    }
   ],
   "source": [
    "sys.path"
   ]
  },
  {
   "cell_type": "markdown",
   "id": "81b6ba30",
   "metadata": {},
   "source": [
    "### 8) pickle"
   ]
  },
  {
   "cell_type": "code",
   "execution_count": 89,
   "id": "215ea9a0",
   "metadata": {},
   "outputs": [],
   "source": [
    "import pickle\n",
    "f = open(\"pickle_test.pick\",\"wb\")\n",
    "data = [1, 2, 3, 4, 5]\n",
    "pickle.dump(data,f)\n",
    "f.close()"
   ]
  },
  {
   "cell_type": "code",
   "execution_count": 93,
   "id": "0cac2235",
   "metadata": {},
   "outputs": [
    {
     "name": "stdout",
     "output_type": "stream",
     "text": [
      "[1, 2, 3, 4, 5]\n"
     ]
    }
   ],
   "source": [
    "import pickle\n",
    "f = open(\"pickle_test.pick\", \"rb\")\n",
    "data = pickle.load(f)\n",
    "print(data)"
   ]
  },
  {
   "cell_type": "markdown",
   "id": "039811f9",
   "metadata": {},
   "source": [
    "### 9) webbrowser"
   ]
  },
  {
   "cell_type": "code",
   "execution_count": 92,
   "id": "d3a06942",
   "metadata": {},
   "outputs": [
    {
     "data": {
      "text/plain": [
       "True"
      ]
     },
     "execution_count": 92,
     "metadata": {},
     "output_type": "execute_result"
    }
   ],
   "source": [
    "import webbrowser\n",
    "webbrowser.open(\"www.naver.com\")"
   ]
  },
  {
   "cell_type": "code",
   "execution_count": null,
   "id": "1459c570",
   "metadata": {},
   "outputs": [],
   "source": []
  }
 ],
 "metadata": {
  "kernelspec": {
   "display_name": "Python 3 (ipykernel)",
   "language": "python",
   "name": "python3"
  },
  "language_info": {
   "codemirror_mode": {
    "name": "ipython",
    "version": 3
   },
   "file_extension": ".py",
   "mimetype": "text/x-python",
   "name": "python",
   "nbconvert_exporter": "python",
   "pygments_lexer": "ipython3",
   "version": "3.10.6"
  }
 },
 "nbformat": 4,
 "nbformat_minor": 5
}
